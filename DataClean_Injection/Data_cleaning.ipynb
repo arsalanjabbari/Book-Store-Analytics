{
 "cells": [
  {
   "cell_type": "code",
   "execution_count": 61,
   "id": "643b2648",
   "metadata": {},
   "outputs": [],
   "source": [
    "import pandas as pd"
   ]
  },
  {
   "cell_type": "code",
   "execution_count": 581,
   "id": "2b809c1b",
   "metadata": {},
   "outputs": [
    {
     "name": "stderr",
     "output_type": "stream",
     "text": [
      "C:\\Users\\Aghil\\AppData\\Local\\Temp\\ipykernel_5764\\3763481279.py:1: DtypeWarning: Columns (18) have mixed types. Specify dtype option on import or set low_memory=False.\n",
      "  books=pd.read_csv('books all.csv')\n"
     ]
    }
   ],
   "source": [
    "books=pd.read_csv('books all.csv')\n",
    "books.drop(columns=['Unnamed: 0'],inplace=True)"
   ]
  },
  {
   "cell_type": "code",
   "execution_count": 582,
   "id": "34492867",
   "metadata": {},
   "outputs": [
    {
     "name": "stdout",
     "output_type": "stream",
     "text": [
      "<class 'pandas.core.frame.DataFrame'>\n",
      "RangeIndex: 113568 entries, 0 to 113567\n",
      "Data columns (total 22 columns):\n",
      " #   Column            Non-Null Count   Dtype  \n",
      "---  ------            --------------   -----  \n",
      " 0   f_title           113568 non-null  object \n",
      " 1   e_title           112457 non-null  object \n",
      " 2   price_broken      113568 non-null  int64  \n",
      " 3   price_special     113568 non-null  int64  \n",
      " 4   discount          80245 non-null   float64\n",
      " 5   data_rating       113568 non-null  float64\n",
      " 6   publishers        113568 non-null  object \n",
      " 7   author            113568 non-null  object \n",
      " 8   book_id           113568 non-null  int64  \n",
      " 9   shbook            110859 non-null  object \n",
      " 10  ghat              110742 non-null  object \n",
      " 11  npages            110112 non-null  object \n",
      " 12  translator        113568 non-null  object \n",
      " 13  jyear             109615 non-null  object \n",
      " 14  myear             58275 non-null   object \n",
      " 15  description       89945 non-null   object \n",
      " 16  typej             110831 non-null  object \n",
      " 17  sprint            108753 non-null  object \n",
      " 18  product_features  113568 non-null  object \n",
      " 19  product_tags      113568 non-null  object \n",
      " 20  persian_bar       26249 non-null   object \n",
      " 21  lbook             3010 non-null    object \n",
      "dtypes: float64(2), int64(3), object(17)\n",
      "memory usage: 19.1+ MB\n"
     ]
    }
   ],
   "source": [
    "books.info()"
   ]
  },
  {
   "cell_type": "markdown",
   "id": "2af40823",
   "metadata": {},
   "source": [
    "# handling missing data in georgian date"
   ]
  },
  {
   "cell_type": "code",
   "execution_count": 583,
   "id": "e4868f07",
   "metadata": {},
   "outputs": [],
   "source": [
    "books.loc[books.e_title.isna(),'e_title']=books.loc[books.e_title.isna(),'f_title'].replace('کتاب','')"
   ]
  },
  {
   "cell_type": "markdown",
   "id": "7ccffa4d",
   "metadata": {},
   "source": [
    "# handling missing data in price"
   ]
  },
  {
   "cell_type": "code",
   "execution_count": 584,
   "id": "9e8c5c8c",
   "metadata": {},
   "outputs": [],
   "source": [
    "books.loc[books.book_id==121587,'price_broken']='119000'\n",
    "books.loc[books.book_id==121587,'price_special']='119000'"
   ]
  },
  {
   "cell_type": "markdown",
   "id": "1a0265a7",
   "metadata": {},
   "source": [
    "# handling missing data in discount"
   ]
  },
  {
   "cell_type": "code",
   "execution_count": 585,
   "id": "0a11299b",
   "metadata": {},
   "outputs": [],
   "source": [
    "books.loc[books.discount.isna(),'discount']='0'"
   ]
  },
  {
   "cell_type": "markdown",
   "id": "ff1790b1",
   "metadata": {},
   "source": [
    "# handling missing data in publishers and author"
   ]
  },
  {
   "cell_type": "code",
   "execution_count": 586,
   "id": "32439db9",
   "metadata": {},
   "outputs": [],
   "source": [
    "books.drop(books[(books.publishers=='[]')].index,inplace=True)"
   ]
  },
  {
   "cell_type": "code",
   "execution_count": 587,
   "id": "69b33965",
   "metadata": {},
   "outputs": [],
   "source": [
    "books.drop(books[(books.author=='[]')].index,inplace=True)"
   ]
  },
  {
   "cell_type": "markdown",
   "id": "f427e2de",
   "metadata": {},
   "source": [
    "# handling missing data in ISBN"
   ]
  },
  {
   "cell_type": "code",
   "execution_count": 588,
   "id": "766f3da1",
   "metadata": {},
   "outputs": [],
   "source": [
    "books.loc[(books.shbook.isna()),'shbook']='No SH'"
   ]
  },
  {
   "cell_type": "markdown",
   "id": "6a8af909",
   "metadata": {},
   "source": [
    "# handling missing data in ghat"
   ]
  },
  {
   "cell_type": "code",
   "execution_count": 589,
   "id": "28aa965e",
   "metadata": {},
   "outputs": [],
   "source": [
    "books.loc[(books.ghat.isna()),'ghat']='No Ghat'"
   ]
  },
  {
   "cell_type": "markdown",
   "id": "4654502e",
   "metadata": {},
   "source": [
    "# handling missing data and cleaning data  in npages"
   ]
  },
  {
   "cell_type": "code",
   "execution_count": 590,
   "id": "33998f40",
   "metadata": {},
   "outputs": [],
   "source": [
    "books.loc[(books.npages.isna())]='0'\n",
    "books['npages']=books['npages'].apply(lambda x : x.replace('\\u200f\\u202b',''))\n",
    "books['npages']=books['npages'].apply(lambda x : x.replace('\\u202c',''))\n",
    "books['npages']=books['npages'].apply(lambda x : x.replace('\\u202b',''))\n",
    "books['npages']=books['npages'].apply(lambda x : x.replace('\\u200f\\u200f\\u200f\\u200f',''))\n",
    "books['npages']=books['npages'].apply(lambda x : x.replace('\\u200f',''))\n",
    "books['npages']=books['npages'].apply(lambda x : x.replace('\\u200c\\u200c',''))\n",
    "books['npages']=books['npages'].apply(lambda x : x.replace('صفحه',''))\n",
    "books['npages']=books['npages'].apply(lambda x : x.replace('\\u200d',''))\n",
    "books['npages']=books['npages'].apply(lambda x : x.replace('-',''))\n",
    "books['npages']=books['npages'].apply(lambda x : x.replace('544+24','568'))"
   ]
  },
  {
   "cell_type": "markdown",
   "id": "e1f1de03",
   "metadata": {},
   "source": [
    "# handling missing data in translator"
   ]
  },
  {
   "cell_type": "code",
   "execution_count": 591,
   "id": "a20cbf64",
   "metadata": {},
   "outputs": [],
   "source": [
    "books.loc[(books.translator=='[]'),'translator']='No translator'"
   ]
  },
  {
   "cell_type": "markdown",
   "id": "82d244a9",
   "metadata": {},
   "source": [
    "# handling cleaning data in georgian date"
   ]
  },
  {
   "cell_type": "code",
   "execution_count": 592,
   "id": "2a8e9515",
   "metadata": {},
   "outputs": [],
   "source": [
    "books.loc[(books.jyear.isna())]='0'\n",
    "books['jyear']=books['jyear'].apply(lambda x : x.replace('\\u200f\\u202b',''))\n",
    "books.loc[(books.jyear.str.contains('-')),'jyear']=\\\n",
    "books.loc[(books.jyear.str.contains('-')),'jyear'].apply(lambda x : x.split('-')[0])\n",
    "books['jyear']=books['jyear'].apply(lambda x : x.replace('.',''))\n",
    "books['jyear']=books['jyear'].apply(lambda x : x.replace('\\u202c',''))\n",
    "books.loc[(books.jyear.str.contains('ق')),'jyear']=\\\n",
    "books.loc[(books.jyear.str.contains('ق')),'jyear'].apply(lambda x : str(int(x.split(' ')[0])-43))\n",
    "books['jyear']=books['jyear'].apply(lambda x : x.replace('\\u202e\\u200f',''))\n",
    "books['jyear']=books['jyear'].apply(lambda x : x.replace('\\u200f',''))\n",
    "books['jyear']=books['jyear'].apply(lambda x : x.replace('\\u200d',''))\n",
    "books['jyear']=books['jyear'].apply(lambda x : x.replace('\\u200c\\u200c',''))\n",
    "books.loc[(books.jyear.str.contains('،')),'jyear']=\\\n",
    "books.loc[(books.jyear.str.contains('،')),'jyear'].apply(lambda x : x.split('،')[0])\n",
    "books.loc[(books.jyear.str.contains(' _ ')),'jyear']=\\\n",
    "books.loc[(books.jyear.str.contains(' _ ')),'jyear'].apply(lambda x : x.split(' _ ')[0])\n",
    "books['jyear']=books['jyear'].apply(lambda x : x.replace('\\u202d',''))\n",
    "books['jyear']=books['jyear'].apply(lambda x : x[:4])"
   ]
  },
  {
   "cell_type": "markdown",
   "id": "648963ad",
   "metadata": {},
   "source": [
    "# handling missing data and cleaning data in solar date"
   ]
  },
  {
   "cell_type": "code",
   "execution_count": 593,
   "id": "5c37cc5e",
   "metadata": {},
   "outputs": [],
   "source": [
    "books.loc[(books.myear.isna()),'myear']='0'\n",
    "books.loc[(books.myear.str.contains('B')),'myear']='0'\n",
    "books.loc[(books.myear.str.contains('C')),'myear']='0'\n",
    "books.loc[(books.myear.str.contains('A')),'myear']='0'\n",
    "books.loc[(books.myear.str.contains('D')),'myear']='0'\n",
    "books.loc[(books.myear.str.contains('b')),'myear']='0'\n",
    "books.loc[(books.myear.str.contains('c')),'myear']='0'\n",
    "books.loc[(books.myear.str.contains('میلاد'))]='0'\n",
    "books.loc[(books.myear.str.contains('ق'))]='0'\n",
    "books.loc[(books.myear.str.contains('کر'))]='2013'\n",
    "books.loc[(books.myear.str.contains('-')),'myear']=\\\n",
    "books.loc[(books.myear.str.contains('-')),'myear'].apply(lambda x : x.split('-')[0])\n",
    "books.loc[(books.myear.str.fullmatch('')),'myear']=\\\n",
    "books.loc[(books.myear.str.fullmatch('')),'jyear'].apply(lambda x : str(int(x)+621))\n",
    "books['myear']=books['myear'].apply(lambda x : x.replace('\\u202d',''))\n",
    "books['myear']=books['myear'].apply(lambda x : x.replace('\\u202c',''))\n",
    "books['myear']=books['myear'].apply(lambda x : x.replace('\\u200e',''))\n",
    "books['myear']=books['myear'].apply(lambda x : x.replace('\\u202e\\u202e',''))\n",
    "books['myear']=books['myear'].apply(lambda x : x.replace('\\u202e',''))\n",
    "books.loc[(books.myear.str.contains('/')),'myear']=\\\n",
    "books.loc[(books.myear.str.contains('/')),'myear'].apply(lambda x : x.split('/')[0])\n",
    "books.loc[(books.myear.str.contains(' _ ')),'myear']=\\\n",
    "books.loc[(books.myear.str.contains(' _ ')),'myear'].apply(lambda x : x.split(' _ ')[0])"
   ]
  },
  {
   "cell_type": "markdown",
   "id": "c19938b6",
   "metadata": {},
   "source": [
    "# handling missing data description"
   ]
  },
  {
   "cell_type": "code",
   "execution_count": 594,
   "id": "da679cec",
   "metadata": {},
   "outputs": [],
   "source": [
    "books.loc[(books.description.isna()),'description']='No description'"
   ]
  },
  {
   "cell_type": "markdown",
   "id": "3e2465f1",
   "metadata": {},
   "source": [
    "# handling missing data typej"
   ]
  },
  {
   "cell_type": "code",
   "execution_count": 595,
   "id": "a6b291ab",
   "metadata": {},
   "outputs": [],
   "source": [
    "books.loc[(books.typej.isna()),'typej']='No type'"
   ]
  },
  {
   "cell_type": "markdown",
   "id": "522534ca",
   "metadata": {},
   "source": [
    "# handling missing data cleaning data in sprint"
   ]
  },
  {
   "cell_type": "code",
   "execution_count": 596,
   "id": "36adc8a9",
   "metadata": {},
   "outputs": [],
   "source": [
    "books.loc[(books.sprint.isna()),'sprint']='0'\n",
    "books['sprint']=books.sprint.apply(lambda x : str(x).replace('م',''))\n",
    "books['sprint']=books.sprint.apply(lambda x : str(x).replace('ض',''))\n",
    "books.loc[(books.sprint.str.fullmatch('')),'sprint']='0'\n",
    "books.loc[(books.sprint.str.contains('.')),'sprint']=\\\n",
    "books.loc[(books.sprint.str.contains('.')),'sprint'].apply(lambda x : str(x).split('.')[0])"
   ]
  },
  {
   "cell_type": "markdown",
   "id": "b46bad6e",
   "metadata": {},
   "source": [
    "# handling missing data in persian_bar"
   ]
  },
  {
   "cell_type": "code",
   "execution_count": 597,
   "id": "b6521d92",
   "metadata": {},
   "outputs": [],
   "source": [
    "books.loc[(books.persian_bar.isna()),'persian_bar']='No pb'"
   ]
  },
  {
   "cell_type": "markdown",
   "id": "f9124937",
   "metadata": {},
   "source": [
    "# handling missing data in lbook"
   ]
  },
  {
   "cell_type": "code",
   "execution_count": 598,
   "id": "26e36e92",
   "metadata": {},
   "outputs": [],
   "source": [
    "books.loc[(books.lbook.isna()),'lbook']=\"['فارسی ']\""
   ]
  },
  {
   "cell_type": "markdown",
   "id": "c575782a",
   "metadata": {},
   "source": [
    "# categorical data to numerical data and handling missing data"
   ]
  },
  {
   "cell_type": "code",
   "execution_count": 599,
   "id": "3bab2360",
   "metadata": {},
   "outputs": [],
   "source": [
    "books['price_broken']=books['price_broken'].astype(int)\n",
    "b# handling missing data in lbookooks['price_special']=books['price_special'].astype(int)\n",
    "books['discount']=books['discount'].astype(float)\n",
    "books['data_rating']=books['data_rating'].astype(float)\n",
    "books['book_id']=books['book_id'].astype(int)\n",
    "books['npages']=books.npages.astype(int)\n",
    "books['jyear']=books['jyear'].astype(int)\n",
    "books['myear']=books['myear'].astype(int)\n",
    "books['sprint']=books['sprint'].astype(int)\n",
    "books.loc[(books.sprint==0,'sprint')]=books['sprint'].median()\n",
    "books.loc[(books.myear==0,'myear')]=books['myear'].median()\n",
    "books.loc[(books.jyear==0,'jyear')]=books['jyear'].median()\n",
    "books.loc[(books.npages==0,'npages')]=books['npages'].median()"
   ]
  },
  {
   "cell_type": "code",
   "execution_count": 601,
   "id": "a070aad3",
   "metadata": {},
   "outputs": [],
   "source": [
    "books=books.loc[(books.price_broken>=1000)&(books.price_special>=1000)]"
   ]
  },
  {
   "cell_type": "code",
   "execution_count": 602,
   "id": "5f70cba7",
   "metadata": {},
   "outputs": [
    {
     "name": "stdout",
     "output_type": "stream",
     "text": [
      "<class 'pandas.core.frame.DataFrame'>\n",
      "Int64Index: 108012 entries, 0 to 113567\n",
      "Data columns (total 22 columns):\n",
      " #   Column            Non-Null Count   Dtype  \n",
      "---  ------            --------------   -----  \n",
      " 0   f_title           108012 non-null  object \n",
      " 1   e_title           108012 non-null  object \n",
      " 2   price_broken      108012 non-null  int32  \n",
      " 3   price_special     108012 non-null  int32  \n",
      " 4   discount          108012 non-null  float64\n",
      " 5   data_rating       108012 non-null  float64\n",
      " 6   publishers        108012 non-null  object \n",
      " 7   author            108012 non-null  object \n",
      " 8   book_id           108012 non-null  int32  \n",
      " 9   shbook            108012 non-null  object \n",
      " 10  ghat              108012 non-null  object \n",
      " 11  npages            108012 non-null  int32  \n",
      " 12  translator        108012 non-null  object \n",
      " 13  jyear             108012 non-null  int32  \n",
      " 14  myear             108012 non-null  int32  \n",
      " 15  description       108012 non-null  object \n",
      " 16  typej             108012 non-null  object \n",
      " 17  sprint            108012 non-null  int32  \n",
      " 18  product_features  108012 non-null  object \n",
      " 19  product_tags      108012 non-null  object \n",
      " 20  persian_bar       108012 non-null  object \n",
      " 21  lbook             108012 non-null  object \n",
      "dtypes: float64(2), int32(7), object(13)\n",
      "memory usage: 16.1+ MB\n"
     ]
    }
   ],
   "source": [
    "books.info()"
   ]
  },
  {
   "cell_type": "code",
   "execution_count": 603,
   "id": "c764d943",
   "metadata": {
    "scrolled": true
   },
   "outputs": [
    {
     "data": {
      "text/html": [
       "<div>\n",
       "<style scoped>\n",
       "    .dataframe tbody tr th:only-of-type {\n",
       "        vertical-align: middle;\n",
       "    }\n",
       "\n",
       "    .dataframe tbody tr th {\n",
       "        vertical-align: top;\n",
       "    }\n",
       "\n",
       "    .dataframe thead th {\n",
       "        text-align: right;\n",
       "    }\n",
       "</style>\n",
       "<table border=\"1\" class=\"dataframe\">\n",
       "  <thead>\n",
       "    <tr style=\"text-align: right;\">\n",
       "      <th></th>\n",
       "      <th>f_title</th>\n",
       "      <th>e_title</th>\n",
       "      <th>price_broken</th>\n",
       "      <th>price_special</th>\n",
       "      <th>discount</th>\n",
       "      <th>data_rating</th>\n",
       "      <th>publishers</th>\n",
       "      <th>author</th>\n",
       "      <th>book_id</th>\n",
       "      <th>shbook</th>\n",
       "      <th>...</th>\n",
       "      <th>translator</th>\n",
       "      <th>jyear</th>\n",
       "      <th>myear</th>\n",
       "      <th>description</th>\n",
       "      <th>typej</th>\n",
       "      <th>sprint</th>\n",
       "      <th>product_features</th>\n",
       "      <th>product_tags</th>\n",
       "      <th>persian_bar</th>\n",
       "      <th>lbook</th>\n",
       "    </tr>\n",
       "  </thead>\n",
       "  <tbody>\n",
       "    <tr>\n",
       "      <th>0</th>\n",
       "      <td>کتاب گور به گور</td>\n",
       "      <td>As I Lay Dying</td>\n",
       "      <td>130000</td>\n",
       "      <td>110500</td>\n",
       "      <td>15.0</td>\n",
       "      <td>4.227273</td>\n",
       "      <td>['نشر چشمه']</td>\n",
       "      <td>['ویلیام فاکنر']</td>\n",
       "      <td>191</td>\n",
       "      <td>978-964-362-193-3</td>\n",
       "      <td>...</td>\n",
       "      <td>['نجف دریابندری']</td>\n",
       "      <td>1401</td>\n",
       "      <td>1930</td>\n",
       "      <td>رمان گور به گور، تشریح نفس گیر ویلیام فاکنر اس...</td>\n",
       "      <td>شومیز</td>\n",
       "      <td>28</td>\n",
       "      <td>['نویسنده ی کتاب برنده ی جایزه ی نوبل ادبیات س...</td>\n",
       "      <td>['ادبیات اقتباسی', 'جایزه نوبل ادبیات', 'ادبیا...</td>\n",
       "      <td>یکی از بهترین رمان های قرن بیستم. تأثیر شگرف د...</td>\n",
       "      <td>['فارسی ']</td>\n",
       "    </tr>\n",
       "    <tr>\n",
       "      <th>1</th>\n",
       "      <td>کتاب جزء از کل</td>\n",
       "      <td>A Fraction of the Whole</td>\n",
       "      <td>395000</td>\n",
       "      <td>335750</td>\n",
       "      <td>15.0</td>\n",
       "      <td>3.700000</td>\n",
       "      <td>['نشر چشمه']</td>\n",
       "      <td>['استیو تولتز']</td>\n",
       "      <td>43</td>\n",
       "      <td>978-600229-5002</td>\n",
       "      <td>...</td>\n",
       "      <td>['پیمان خاکسار']</td>\n",
       "      <td>1402</td>\n",
       "      <td>2008</td>\n",
       "      <td>جسپر دین، بیشتر عمرش نمی توانست تصمیم بگیرد چه...</td>\n",
       "      <td>جلد سخت</td>\n",
       "      <td>80</td>\n",
       "      <td>['برنده جایزه ی NSW Premier سال 2009']</td>\n",
       "      <td>['جایزه ی ان اس دبلیو پرایمر', 'ادبیات استرالی...</td>\n",
       "      <td>داستانی ارزشمند از یک پدر و پسر، آکنده از حواد...</td>\n",
       "      <td>['فارسی ']</td>\n",
       "    </tr>\n",
       "    <tr>\n",
       "      <th>2</th>\n",
       "      <td>جزء از کل (مجموعه برگ و نوا)</td>\n",
       "      <td>A Fraction of the Whole</td>\n",
       "      <td>390000</td>\n",
       "      <td>292500</td>\n",
       "      <td>25.0</td>\n",
       "      <td>3.090000</td>\n",
       "      <td>['نشر چشمه']</td>\n",
       "      <td>['استیو تولتز']</td>\n",
       "      <td>71718</td>\n",
       "      <td>978-6002295002</td>\n",
       "      <td>...</td>\n",
       "      <td>['پیمان خاکسار']</td>\n",
       "      <td>1402</td>\n",
       "      <td>2008</td>\n",
       "      <td>جسپر دین، بیشتر عمرش نمی توانست تصمیم بگیرد چه...</td>\n",
       "      <td>جلد سخت</td>\n",
       "      <td>80</td>\n",
       "      <td>['برنده جایزه ی NSW Premier سال 2009']</td>\n",
       "      <td>['جایزه ی ان اس دبلیو پرایمر', 'ادبیات استرالی...</td>\n",
       "      <td>داستانی ارزشمند از یک پدر و پسر، آکنده از حواد...</td>\n",
       "      <td>['فارسی ']</td>\n",
       "    </tr>\n",
       "    <tr>\n",
       "      <th>3</th>\n",
       "      <td>جزء از کل</td>\n",
       "      <td>A Fraction of the Whole</td>\n",
       "      <td>420000</td>\n",
       "      <td>252000</td>\n",
       "      <td>40.0</td>\n",
       "      <td>3.200000</td>\n",
       "      <td>['ندای معاصر (زرین کلک)']</td>\n",
       "      <td>['استیو تولتز']</td>\n",
       "      <td>92408</td>\n",
       "      <td>978-6009896486</td>\n",
       "      <td>...</td>\n",
       "      <td>['گلناز سهرابی']</td>\n",
       "      <td>1401</td>\n",
       "      <td>2008</td>\n",
       "      <td>جسپر دین، بیشتر عمرش نمی توانست تصمیم بگیرد چه...</td>\n",
       "      <td>جلد سخت</td>\n",
       "      <td>4</td>\n",
       "      <td>['برنده جایزه ی NSW Premier سال 2009']</td>\n",
       "      <td>['جایزه ی ان اس دبلیو پرایمر', 'ادبیات استرالی...</td>\n",
       "      <td>داستانی ارزشمند از یک پدر و پسر، آکنده از حواد...</td>\n",
       "      <td>['فارسی ']</td>\n",
       "    </tr>\n",
       "    <tr>\n",
       "      <th>4</th>\n",
       "      <td>جزء از کل</td>\n",
       "      <td>A Fraction of the Whole</td>\n",
       "      <td>500000</td>\n",
       "      <td>300000</td>\n",
       "      <td>40.0</td>\n",
       "      <td>3.220000</td>\n",
       "      <td>['ندای معاصر (زرین کلک)']</td>\n",
       "      <td>['استیو تولتز']</td>\n",
       "      <td>92404</td>\n",
       "      <td>978-6009896400</td>\n",
       "      <td>...</td>\n",
       "      <td>['گلناز سهرابی']</td>\n",
       "      <td>1401</td>\n",
       "      <td>2008</td>\n",
       "      <td>جسپر دین، بیشتر عمرش نمی توانست تصمیم بگیرد چه...</td>\n",
       "      <td>شومیز</td>\n",
       "      <td>4</td>\n",
       "      <td>['برنده جایزه ی NSW Premier سال 2009']</td>\n",
       "      <td>['جایزه ی ان اس دبلیو پرایمر', 'ادبیات استرالی...</td>\n",
       "      <td>داستانی ارزشمند از یک پدر و پسر، آکنده از حواد...</td>\n",
       "      <td>['فارسی ']</td>\n",
       "    </tr>\n",
       "    <tr>\n",
       "      <th>...</th>\n",
       "      <td>...</td>\n",
       "      <td>...</td>\n",
       "      <td>...</td>\n",
       "      <td>...</td>\n",
       "      <td>...</td>\n",
       "      <td>...</td>\n",
       "      <td>...</td>\n",
       "      <td>...</td>\n",
       "      <td>...</td>\n",
       "      <td>...</td>\n",
       "      <td>...</td>\n",
       "      <td>...</td>\n",
       "      <td>...</td>\n",
       "      <td>...</td>\n",
       "      <td>...</td>\n",
       "      <td>...</td>\n",
       "      <td>...</td>\n",
       "      <td>...</td>\n",
       "      <td>...</td>\n",
       "      <td>...</td>\n",
       "      <td>...</td>\n",
       "    </tr>\n",
       "    <tr>\n",
       "      <th>113563</th>\n",
       "      <td>کتاب تن تن همان تنهاست</td>\n",
       "      <td>Tan Tan</td>\n",
       "      <td>74000</td>\n",
       "      <td>59200</td>\n",
       "      <td>20.0</td>\n",
       "      <td>3.040000</td>\n",
       "      <td>['سیب سرخ']</td>\n",
       "      <td>['مهرگان علیدوست']</td>\n",
       "      <td>122030</td>\n",
       "      <td>978-6225838338</td>\n",
       "      <td>...</td>\n",
       "      <td>No translator</td>\n",
       "      <td>1401</td>\n",
       "      <td>1920</td>\n",
       "      <td>مجموعه شعر «تن‌تن همان تنهاست» اثر مهرگان علید...</td>\n",
       "      <td>شومیز</td>\n",
       "      <td>1</td>\n",
       "      <td>[]</td>\n",
       "      <td>['ادبیات معاصر', 'جدید ترین کتاب ها', 'شعر', '...</td>\n",
       "      <td>No pb</td>\n",
       "      <td>['فارسی ']</td>\n",
       "    </tr>\n",
       "    <tr>\n",
       "      <th>113564</th>\n",
       "      <td>کتاب جنون آرامش بر نقطه فراموشی</td>\n",
       "      <td>Jonoon</td>\n",
       "      <td>23000</td>\n",
       "      <td>18400</td>\n",
       "      <td>20.0</td>\n",
       "      <td>3.890000</td>\n",
       "      <td>['سیب سرخ']</td>\n",
       "      <td>سهراب آزادچهر</td>\n",
       "      <td>122028</td>\n",
       "      <td>978-6225838406</td>\n",
       "      <td>...</td>\n",
       "      <td>No translator</td>\n",
       "      <td>1401</td>\n",
       "      <td>1920</td>\n",
       "      <td>شاعری که شکارگاه را یافتشکار حراج رسالت هاریزگ...</td>\n",
       "      <td>شومیز</td>\n",
       "      <td>1</td>\n",
       "      <td>[]</td>\n",
       "      <td>['ادبیات معاصر', 'جدید ترین کتاب ها', 'شعر', '...</td>\n",
       "      <td>No pb</td>\n",
       "      <td>['فارسی ']</td>\n",
       "    </tr>\n",
       "    <tr>\n",
       "      <th>113565</th>\n",
       "      <td>کتاب شکارچیان زمان : در جستجوی شوالیه</td>\n",
       "      <td>Knight Quest</td>\n",
       "      <td>15000</td>\n",
       "      <td>11250</td>\n",
       "      <td>25.0</td>\n",
       "      <td>3.750000</td>\n",
       "      <td>['سامر']</td>\n",
       "      <td>['کریس بلیک']</td>\n",
       "      <td>122046</td>\n",
       "      <td>978-6006444437</td>\n",
       "      <td>...</td>\n",
       "      <td>['فرناز صفرزاده']</td>\n",
       "      <td>1395</td>\n",
       "      <td>2013</td>\n",
       "      <td>No description</td>\n",
       "      <td>شومیز</td>\n",
       "      <td>1</td>\n",
       "      <td>[]</td>\n",
       "      <td>['داستان فانتزی', 'ادبیات انگلیس', 'ادبیات داس...</td>\n",
       "      <td>No pb</td>\n",
       "      <td>['فارسی ']</td>\n",
       "    </tr>\n",
       "    <tr>\n",
       "      <th>113566</th>\n",
       "      <td>کتاب شکارچیان زمان : نبرد گلادیاتور</td>\n",
       "      <td>Gladiator Clash</td>\n",
       "      <td>15000</td>\n",
       "      <td>11250</td>\n",
       "      <td>25.0</td>\n",
       "      <td>3.700000</td>\n",
       "      <td>['سامر']</td>\n",
       "      <td>['کریس بلیک']</td>\n",
       "      <td>122043</td>\n",
       "      <td>978-6006444444</td>\n",
       "      <td>...</td>\n",
       "      <td>['زهرا رشیدی']</td>\n",
       "      <td>1395</td>\n",
       "      <td>2013</td>\n",
       "      <td>No description</td>\n",
       "      <td>شومیز</td>\n",
       "      <td>1</td>\n",
       "      <td>[]</td>\n",
       "      <td>['داستان فانتزی', 'ادبیات انگلیس', 'ادبیات داس...</td>\n",
       "      <td>No pb</td>\n",
       "      <td>['فارسی ']</td>\n",
       "    </tr>\n",
       "    <tr>\n",
       "      <th>113567</th>\n",
       "      <td>کتاب کتاب عروسکی خرسو قلقلی</td>\n",
       "      <td>Khers</td>\n",
       "      <td>99000</td>\n",
       "      <td>99000</td>\n",
       "      <td>0.0</td>\n",
       "      <td>3.660000</td>\n",
       "      <td>['زنبور']</td>\n",
       "      <td>['اسدالله شعبانی']</td>\n",
       "      <td>122051</td>\n",
       "      <td>978-6008447740</td>\n",
       "      <td>...</td>\n",
       "      <td>No translator</td>\n",
       "      <td>1395</td>\n",
       "      <td>1920</td>\n",
       "      <td>No description</td>\n",
       "      <td>سلفونی</td>\n",
       "      <td>1</td>\n",
       "      <td>[]</td>\n",
       "      <td>['ادبیات داستانی', 'ادبیات معاصر', 'شعر', 'کتا...</td>\n",
       "      <td>No pb</td>\n",
       "      <td>['فارسی ']</td>\n",
       "    </tr>\n",
       "  </tbody>\n",
       "</table>\n",
       "<p>108012 rows × 22 columns</p>\n",
       "</div>"
      ],
      "text/plain": [
       "                                      f_title                  e_title  \\\n",
       "0                             کتاب گور به گور           As I Lay Dying   \n",
       "1                              کتاب جزء از کل  A Fraction of the Whole   \n",
       "2                جزء از کل (مجموعه برگ و نوا)  A Fraction of the Whole   \n",
       "3                                   جزء از کل  A Fraction of the Whole   \n",
       "4                                   جزء از کل  A Fraction of the Whole   \n",
       "...                                       ...                      ...   \n",
       "113563                 کتاب تن تن همان تنهاست                  Tan Tan   \n",
       "113564        کتاب جنون آرامش بر نقطه فراموشی                   Jonoon   \n",
       "113565  کتاب شکارچیان زمان : در جستجوی شوالیه             Knight Quest   \n",
       "113566    کتاب شکارچیان زمان : نبرد گلادیاتور          Gladiator Clash   \n",
       "113567            کتاب کتاب عروسکی خرسو قلقلی                    Khers   \n",
       "\n",
       "        price_broken  price_special  discount  data_rating  \\\n",
       "0             130000         110500      15.0     4.227273   \n",
       "1             395000         335750      15.0     3.700000   \n",
       "2             390000         292500      25.0     3.090000   \n",
       "3             420000         252000      40.0     3.200000   \n",
       "4             500000         300000      40.0     3.220000   \n",
       "...              ...            ...       ...          ...   \n",
       "113563         74000          59200      20.0     3.040000   \n",
       "113564         23000          18400      20.0     3.890000   \n",
       "113565         15000          11250      25.0     3.750000   \n",
       "113566         15000          11250      25.0     3.700000   \n",
       "113567         99000          99000       0.0     3.660000   \n",
       "\n",
       "                       publishers              author  book_id  \\\n",
       "0                    ['نشر چشمه']    ['ویلیام فاکنر']      191   \n",
       "1                    ['نشر چشمه']     ['استیو تولتز']       43   \n",
       "2                    ['نشر چشمه']     ['استیو تولتز']    71718   \n",
       "3       ['ندای معاصر (زرین کلک)']     ['استیو تولتز']    92408   \n",
       "4       ['ندای معاصر (زرین کلک)']     ['استیو تولتز']    92404   \n",
       "...                           ...                 ...      ...   \n",
       "113563                ['سیب سرخ']  ['مهرگان علیدوست']   122030   \n",
       "113564                ['سیب سرخ']       سهراب آزادچهر   122028   \n",
       "113565                   ['سامر']       ['کریس بلیک']   122046   \n",
       "113566                   ['سامر']       ['کریس بلیک']   122043   \n",
       "113567                  ['زنبور']  ['اسدالله شعبانی']   122051   \n",
       "\n",
       "                   shbook  ...         translator  jyear myear  \\\n",
       "0       978-964-362-193-3  ...  ['نجف دریابندری']   1401  1930   \n",
       "1         978-600229-5002  ...   ['پیمان خاکسار']   1402  2008   \n",
       "2          978-6002295002  ...   ['پیمان خاکسار']   1402  2008   \n",
       "3          978-6009896486  ...   ['گلناز سهرابی']   1401  2008   \n",
       "4          978-6009896400  ...   ['گلناز سهرابی']   1401  2008   \n",
       "...                   ...  ...                ...    ...   ...   \n",
       "113563     978-6225838338  ...      No translator   1401  1920   \n",
       "113564     978-6225838406  ...      No translator   1401  1920   \n",
       "113565     978-6006444437  ...  ['فرناز صفرزاده']   1395  2013   \n",
       "113566     978-6006444444  ...     ['زهرا رشیدی']   1395  2013   \n",
       "113567     978-6008447740  ...      No translator   1395  1920   \n",
       "\n",
       "                                              description    typej sprint  \\\n",
       "0       رمان گور به گور، تشریح نفس گیر ویلیام فاکنر اس...    شومیز     28   \n",
       "1       جسپر دین، بیشتر عمرش نمی توانست تصمیم بگیرد چه...  جلد سخت     80   \n",
       "2       جسپر دین، بیشتر عمرش نمی توانست تصمیم بگیرد چه...  جلد سخت     80   \n",
       "3       جسپر دین، بیشتر عمرش نمی توانست تصمیم بگیرد چه...  جلد سخت      4   \n",
       "4       جسپر دین، بیشتر عمرش نمی توانست تصمیم بگیرد چه...    شومیز      4   \n",
       "...                                                   ...      ...    ...   \n",
       "113563  مجموعه شعر «تن‌تن همان تنهاست» اثر مهرگان علید...    شومیز      1   \n",
       "113564  شاعری که شکارگاه را یافتشکار حراج رسالت هاریزگ...    شومیز      1   \n",
       "113565                                     No description    شومیز      1   \n",
       "113566                                     No description    شومیز      1   \n",
       "113567                                     No description   سلفونی      1   \n",
       "\n",
       "                                         product_features  \\\n",
       "0       ['نویسنده ی کتاب برنده ی جایزه ی نوبل ادبیات س...   \n",
       "1                  ['برنده جایزه ی NSW Premier سال 2009']   \n",
       "2                  ['برنده جایزه ی NSW Premier سال 2009']   \n",
       "3                  ['برنده جایزه ی NSW Premier سال 2009']   \n",
       "4                  ['برنده جایزه ی NSW Premier سال 2009']   \n",
       "...                                                   ...   \n",
       "113563                                                 []   \n",
       "113564                                                 []   \n",
       "113565                                                 []   \n",
       "113566                                                 []   \n",
       "113567                                                 []   \n",
       "\n",
       "                                             product_tags  \\\n",
       "0       ['ادبیات اقتباسی', 'جایزه نوبل ادبیات', 'ادبیا...   \n",
       "1       ['جایزه ی ان اس دبلیو پرایمر', 'ادبیات استرالی...   \n",
       "2       ['جایزه ی ان اس دبلیو پرایمر', 'ادبیات استرالی...   \n",
       "3       ['جایزه ی ان اس دبلیو پرایمر', 'ادبیات استرالی...   \n",
       "4       ['جایزه ی ان اس دبلیو پرایمر', 'ادبیات استرالی...   \n",
       "...                                                   ...   \n",
       "113563  ['ادبیات معاصر', 'جدید ترین کتاب ها', 'شعر', '...   \n",
       "113564  ['ادبیات معاصر', 'جدید ترین کتاب ها', 'شعر', '...   \n",
       "113565  ['داستان فانتزی', 'ادبیات انگلیس', 'ادبیات داس...   \n",
       "113566  ['داستان فانتزی', 'ادبیات انگلیس', 'ادبیات داس...   \n",
       "113567  ['ادبیات داستانی', 'ادبیات معاصر', 'شعر', 'کتا...   \n",
       "\n",
       "                                              persian_bar       lbook  \n",
       "0       یکی از بهترین رمان های قرن بیستم. تأثیر شگرف د...  ['فارسی ']  \n",
       "1       داستانی ارزشمند از یک پدر و پسر، آکنده از حواد...  ['فارسی ']  \n",
       "2       داستانی ارزشمند از یک پدر و پسر، آکنده از حواد...  ['فارسی ']  \n",
       "3       داستانی ارزشمند از یک پدر و پسر، آکنده از حواد...  ['فارسی ']  \n",
       "4       داستانی ارزشمند از یک پدر و پسر، آکنده از حواد...  ['فارسی ']  \n",
       "...                                                   ...         ...  \n",
       "113563                                              No pb  ['فارسی ']  \n",
       "113564                                              No pb  ['فارسی ']  \n",
       "113565                                              No pb  ['فارسی ']  \n",
       "113566                                              No pb  ['فارسی ']  \n",
       "113567                                              No pb  ['فارسی ']  \n",
       "\n",
       "[108012 rows x 22 columns]"
      ]
     },
     "execution_count": 603,
     "metadata": {},
     "output_type": "execute_result"
    }
   ],
   "source": [
    "books"
   ]
  },
  {
   "cell_type": "code",
   "execution_count": 604,
   "id": "4577f761",
   "metadata": {},
   "outputs": [],
   "source": [
    "books.to_csv('clean books data.csv')"
   ]
  },
  {
   "cell_type": "code",
   "execution_count": null,
   "id": "17d18ec3",
   "metadata": {},
   "outputs": [],
   "source": []
  }
 ],
 "metadata": {
  "kernelspec": {
   "display_name": "Python 3 (ipykernel)",
   "language": "python",
   "name": "python3"
  },
  "language_info": {
   "codemirror_mode": {
    "name": "ipython",
    "version": 3
   },
   "file_extension": ".py",
   "mimetype": "text/x-python",
   "name": "python",
   "nbconvert_exporter": "python",
   "pygments_lexer": "ipython3",
   "version": "3.9.13"
  }
 },
 "nbformat": 4,
 "nbformat_minor": 5
}
